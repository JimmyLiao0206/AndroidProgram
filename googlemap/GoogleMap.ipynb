{
 "cells": [
  {
   "cell_type": "markdown",
   "metadata": {
    "slideshow": {
     "slide_type": "slide"
    }
   },
   "source": [
    "#HTML5 \n",
    "New features:\n",
    "\n",
    "* multimedia: tab for &lt;audio&gt;  and &lt;video&gt;\n",
    "* websocket;\n",
    "* canvas;\n",
    "* ..."
   ]
  },
  {
   "cell_type": "markdown",
   "metadata": {
    "slideshow": {
     "slide_type": "subslide"
    }
   },
   "source": [
    "## HTML5 gym\n",
    "\n",
    "Default browser in Android (less than 4.4) uses \"webkit\" engine which is as same as the one in google chrome. In other words, Google chrome is the best choice to use to test HTML5 codes we had written.\n",
    "\n",
    "However, the Android browser does not support all the new HTML5 functions; something would be wrong while testing HTML5 codes. Use \n",
    "\n",
    "<font color=\"#993300\">tools</font> <font\n",
    "color=\"#cc9933\">-&gt;</font> <font color=\"#993300\">JavaScript\n",
    "Console</font> or \"<font color=\"#ff0000\">Shift + Control + j</font>\"\n",
    "to activate the debug function."
   ]
  },
  {
   "cell_type": "markdown",
   "metadata": {
    "slideshow": {
     "slide_type": "subslide"
    }
   },
   "source": [
    "##Android 4.4(KitKat): Progress about Webview\n",
    "From this release, Chromium 30 is the web engine for the WebView native widget which, owns:\n",
    "\n",
    "* Support for remote debugging;\n",
    "* Support for new HTML5 features: Web Sockets, Web worker, IndexedDB, Animation Timing API, CSS3 Flexbox etc;\n",
    "* Better performance. \n",
    "\n",
    "But still not support: **WebGL, WebRTC, WebAudio, FullScreen and Form validation**."
   ]
  },
  {
   "cell_type": "markdown",
   "metadata": {
    "slideshow": {
     "slide_type": "subslide"
    }
   },
   "source": [
    "##Note\n",
    "Web-based Real-Time peer-peer communication (**WebRTC**) is the one of the new supported fonction for google chrome but not for Android browser, even the new kit-kate browser. Maybe someday, it will. "
   ]
  },
  {
   "cell_type": "markdown",
   "metadata": {
    "slideshow": {
     "slide_type": "subslide"
    }
   },
   "source": [
    "RTC Codes or visit the site: http://diffusion.cgu.edu.tw/android/RTCdemo.html \n",
    "\n",
    "<font color=\"#993300\"><br>\n",
    "&lt;form&gt;&lt;input id=\"snapshot\" value=\"Say Cheese\"\n",
    "type=\"button\"&gt;&lt;/form&gt; <br>\n",
    "&lt;video autoplay=\"autoplay\"&gt;&lt;/video&gt;&lt;br&gt;<br>\n",
    "<br>\n",
    "&lt;canvas id=\"canvas\" width=\"600\"\n",
    "height=\"800\"&gt;&lt;/canvas&gt; <br>\n",
    "&lt;script type=\"text/javascript\"&gt;<br>\n",
    "&nbsp; var onFailSoHard = function(e){<br>\n",
    "&nbsp;&nbsp;&nbsp;&nbsp;&nbsp; console.log('failed',e);<br>\n",
    "&nbsp; }<br>\n",
    "<br>\n",
    "&nbsp; window.URL = window.URL || window.webkitURL ;<br>\n",
    "&nbsp; navigator.getUserMedia = navigator.getUserMedia ||\n",
    "navigator.webkitGetUserMedia;<br>\n",
    "<br>\n",
    "&nbsp; var video = document.querySelector('video');<br>\n",
    "<br>\n",
    "&nbsp; if(navigator.getUserMedia){<br>\n",
    "&nbsp;&nbsp;&nbsp;&nbsp; navigator.getUserMedia({video:\n",
    "true},function(stream) {<br>\n",
    "&nbsp;&nbsp;&nbsp;&nbsp;&nbsp;&nbsp;&nbsp; video.src =\n",
    "window.URL.createObjectURL(stream);<br>\n",
    "&nbsp;&nbsp;&nbsp;&nbsp; },onFailSoHard);<br>\n",
    "&nbsp; }<br>\n",
    "<br>\n",
    "&nbsp; document.getElementById('snapshot').onclick = function()\n",
    "{ <br>\n",
    "&nbsp;&nbsp;&nbsp;&nbsp; var canvas =\n",
    "document.getElementById('canvas'); <br>\n",
    "&nbsp;&nbsp;&nbsp;&nbsp; var ctx = canvas.getContext('2d'); <br>\n",
    "&nbsp;&nbsp;&nbsp;&nbsp; ctx.drawImage(video,0,0); <br>\n",
    "&nbsp; } <br>\n",
    "&lt;/script&gt;<br>\n",
    "</font>"
   ]
  },
  {
   "cell_type": "markdown",
   "metadata": {
    "slideshow": {
     "slide_type": "slide"
    }
   },
   "source": [
    "##jQuery and jQuery Mobile\n",
    "\n",
    "Ajax library for Mobile devices"
   ]
  },
  {
   "cell_type": "markdown",
   "metadata": {
    "slideshow": {
     "slide_type": "subslide"
    }
   },
   "source": [
    "##Demo Template\n",
    "\n",
    "&lt;head&gt; <br>\n",
    "&nbsp;&nbsp;&nbsp; &lt;meta <font color=\"#009900\">name=</font>\"<font\n",
    "color=\"#cc9933\">viewport</font>\" <font color=\"#009900\">content=</font>\"<font\n",
    "color=\"#cc9933\">user-scalable=no, initial-scale=1,\n",
    "width=device-width, height=device-height</font>\" /&gt;<br>\n",
    "&nbsp;&nbsp;&nbsp; &lt;link <font color=\"#009900\">rel=</font>\"<font\n",
    "color=\"#cc9933\">stylesheet</font>\" <font color=\"#009900\">href=</font>\"<font\n",
    "color=\"#cc9933\">css/jquery.mobile-1.3.2.min.css</font>\"\n",
    "/&gt;&nbsp;&nbsp;&nbsp;&nbsp;&nbsp; &nbsp;<br>\n",
    "&nbsp;&nbsp;&nbsp; &lt;script <font color=\"#009900\">src=</font>\"<font\n",
    "color=\"#cc9933\">js/jquery-2.0.3.min.js</font>\"&gt;&lt;/script&gt;\n",
    "<br>\n",
    "&nbsp;&nbsp;&nbsp; &lt;script <font color=\"#006600\">src=</font>\"<font\n",
    "color=\"#cc9933\">js/jquery.mobile-1.3.2.min.js</font>\"&gt;&lt;/script&gt;\n",
    "<br>\n",
    "&lt;/head&gt;<br>\n",
    "&lt;body&gt; <br>\n",
    "&nbsp;&nbsp; &lt;div <font color=\"#009900\">data-role=</font>\"<font\n",
    "color=\"#cc9933\">page</font>\"&gt;<br>\n",
    "&nbsp;&nbsp;&nbsp;&nbsp;&nbsp; &lt;div <font color=\"#009900\">data-role=</font>\"<font\n",
    "color=\"#cc9933\">header</font>\"&gt;...&lt;/div&gt;<br>\n",
    "&nbsp;&nbsp;&nbsp;&nbsp;&nbsp;&nbsp;&nbsp;&nbsp;&nbsp;&nbsp;&nbsp;\n",
    "&lt;div <font color=\"#009900\">data-role=</font>\"<font\n",
    "color=\"#cc9933\">content</font>\"&gt;<br>\n",
    "&nbsp;&nbsp;&nbsp;&nbsp;&nbsp;&nbsp;&nbsp;&nbsp;&nbsp;&nbsp;&nbsp;&nbsp;&nbsp;&nbsp;&nbsp;\n",
    "...<br>\n",
    "&nbsp;&nbsp;&nbsp;&nbsp;&nbsp;&nbsp;&nbsp;&nbsp;&nbsp;&nbsp;&nbsp;\n",
    "&lt;/div&gt;<br>\n",
    "&nbsp;&nbsp;&nbsp;&nbsp;&nbsp; &lt;div <font color=\"#009900\">data-role=</font>\"<font\n",
    "color=\"#cc9933\">footer</font>\"&gt;...&lt;/div&gt;<br>\n",
    "&nbsp; &lt;/div&gt;<br>\n",
    "&lt;/body&gt; "
   ]
  },
  {
   "cell_type": "markdown",
   "metadata": {
    "slideshow": {
     "slide_type": "subslide"
    }
   },
   "source": [
    " &lt;div <font color=\"#009900\">data-role</font>=\"<font\n",
    "color=\"#cc9933\">page</font>\"&gt;<br>\n",
    "&nbsp; &lt;div <font color=\"#009900\">data-role</font>=\"<font\n",
    "color=\"#cc9933\">header</font>\"&gt;<br>\n",
    "&nbsp;&nbsp;&nbsp; &lt;h1&gt; jQuery Mobile Demo&lt;/h1&gt;<br>\n",
    "&nbsp; &lt;/div&gt;<br>\n",
    "&nbsp; &lt;div <font color=\"#009900\">data-role</font>=\"<font\n",
    "color=\"#cc9933\">collapsible-set</font>\"&gt;<br>\n",
    "&nbsp;&nbsp;&nbsp;&nbsp;&nbsp;&nbsp;&nbsp;&nbsp;&nbsp; &lt;div <font\n",
    "color=\"#009900\">data-role</font>=\"<font color=\"#cc9933\">collapsible</font>\"&gt;<br>\n",
    "&nbsp;&nbsp;&nbsp;&nbsp;&nbsp;&nbsp;&nbsp;&nbsp;&nbsp;&nbsp;&nbsp;\n",
    "&lt;h3&gt; How to use this distro?&lt;/h3&gt;<br>\n",
    "&nbsp;&nbsp;&nbsp;&nbsp;&nbsp;&nbsp;&nbsp;&nbsp;&nbsp;&nbsp;&nbsp;\n",
    "&lt;p&gt;<br>\n",
    "&nbsp;&nbsp;&nbsp;&nbsp;&nbsp;&nbsp;&nbsp;&nbsp;&nbsp;&nbsp;&nbsp;&nbsp;&nbsp;&nbsp;\n",
    "&lt;span <font color=\"#009900\">style</font>=\"<font color=\"#cc9933\">color:\n",
    "\\#663300; font-weight: bold;</font>\"&gt;Answer: &lt;/span&gt; since\n",
    "this distro is designed as ready-to-boot state, only<br>\n",
    "&nbsp;&nbsp;&nbsp;&nbsp;&nbsp;&nbsp;&nbsp;&nbsp;&nbsp;&nbsp;&nbsp;&nbsp;&nbsp;\n",
    "change the boot priority to CDROM, USB or net options in BIOS boot\n",
    "setting and reboot machine again.<br>\n",
    "&nbsp;&nbsp;&nbsp;&nbsp;&nbsp;&nbsp;&nbsp;&nbsp;&nbsp;&nbsp;&nbsp;\n",
    "&lt;/p&gt;<br>\n",
    "<br>\n",
    "&nbsp;&nbsp;&nbsp;&nbsp;&nbsp;&nbsp;&nbsp;&nbsp;&nbsp;\n",
    "&lt;/div&gt;&nbsp; <br>\n",
    "&nbsp;&nbsp;&nbsp;&nbsp;&nbsp;&nbsp;&nbsp;&nbsp;&nbsp; &lt;div <font\n",
    "color=\"#009900\">data-role</font>=\"<font color=\"#cc9933\">collapsible</font>\"&gt;<br>\n",
    "&nbsp;&nbsp;&nbsp;&nbsp;&nbsp;&nbsp;&nbsp;&nbsp;&nbsp;&nbsp; ...<br>\n",
    "&nbsp;&nbsp;&nbsp;&nbsp;&nbsp;&nbsp;&nbsp;&nbsp;&nbsp; &lt;/div&gt;\n",
    "<br>\n",
    "&nbsp;&nbsp;&nbsp;&nbsp;&nbsp;&nbsp;&nbsp;&nbsp;&nbsp; &lt;div <font\n",
    "color=\"#009900\">data-role</font>=\"<font color=\"#cc9933\">collapsible</font>\"&gt;<br>\n",
    "&nbsp;&nbsp;&nbsp;&nbsp;&nbsp;&nbsp;&nbsp;&nbsp;&nbsp;&nbsp; ...<br>\n",
    "&nbsp;&nbsp;&nbsp;&nbsp;&nbsp;&nbsp;&nbsp;&nbsp;&nbsp; &lt;/div&gt;\n",
    "<br>\n",
    "&nbsp;&nbsp; &lt;/div&gt;<br>\n",
    "&nbsp;&nbsp; &lt;div <font color=\"#009900\">data-role</font>=\"<font\n",
    "color=\"#cc9933\">footer</font>\"&gt;<br>\n",
    "&nbsp;&nbsp;&nbsp; &lt;h1&gt;Diffusion&lt;/h1&gt;<br>\n",
    "&nbsp; &lt;/div&gt;<br>\n",
    "&lt;/div&gt;"
   ]
  },
  {
   "cell_type": "markdown",
   "metadata": {
    "slideshow": {
     "slide_type": "subslide"
    }
   },
   "source": [
    "##Result\n",
    "<img src=\"/files/imgs/jquerymobile.png\">"
   ]
  },
  {
   "cell_type": "markdown",
   "metadata": {
    "slideshow": {
     "slide_type": "slide"
    }
   },
   "source": [
    "##BMI Codes\n",
    " <p style=\"margin: 1em 0px 0px; text-align: justify; color: rgb(0, 0,\n",
    "0); font-family: 'Helvetica Neue', Helvetica, Arial, sans-serif;\n",
    "font-size: 14px; font-style: normal; font-variant: normal;\n",
    "font-weight: normal; letter-spacing: normal; line-height: 20px;\n",
    "orphans: auto; text-transform: none; white-space: normal; widows:\n",
    "auto; word-spacing: 0px; -webkit-text-stroke-width: 0px;\n",
    "background-color: rgb(255, 255, 255);\"><span>&lt;<span\n",
    "class=\"start-tag\">div</span><span\n",
    "class=\"Apple-converted-space\">&nbsp;</span><font\n",
    "color=\"#009900\"><span class=\"attribute-name\">id</span></font>=\"<font\n",
    "color=\"#cc9933\"><a class=\"attribute-value\" style=\"color:\n",
    "rgb(0, 136, 204); text-decoration: none;\">BMI</a></font>\"<span\n",
    "class=\"Apple-converted-space\">&nbsp;</span><font\n",
    "color=\"#009900\"><span class=\"attribute-name\">data-role</span></font>=\"<font\n",
    "color=\"#cc9933\"><a class=\"attribute-value\" style=\"color:\n",
    "rgb(0, 136, 204); text-decoration: none;\">page</a></font>\"&gt;</span><span><br>\n",
    "&nbsp;<span id=\"line41\"></span>&nbsp;&nbsp;<span\n",
    "class=\"Apple-converted-space\">&nbsp;</span></span><span>&lt;<span\n",
    "class=\"start-tag\">div</span><span\n",
    "class=\"Apple-converted-space\">&nbsp;</span><font\n",
    "color=\"#009900\"><span class=\"attribute-name\">id</span></font>=\"<font\n",
    "color=\"#cc9933\"><a class=\"attribute-value\" style=\"color:\n",
    "rgb(0, 136, 204); text-decoration: none;\">head</a></font>\"<span\n",
    "class=\"Apple-converted-space\">&nbsp;</span><font\n",
    "color=\"#009900\"><span class=\"attribute-name\">data-role</span></font>=\"<font\n",
    "color=\"#cc9933\"><a class=\"attribute-value\" style=\"color:\n",
    "rgb(0, 136, 204); text-decoration: none;\">header</a></font>\"&gt;</span><span><span\n",
    "class=\"Apple-converted-space\">&nbsp;</span></span><span><br>\n",
    "&nbsp;&nbsp;&nbsp;&nbsp;&nbsp; &lt;<span class=\"start-tag\">div</span></span><font\n",
    "color=\"#009900\"><span class=\"attribute-name\"> align</span></font>=\"<font\n",
    "color=\"#cc9933\"><a class=\"attribute-value\" style=\"color: rgb(0,\n",
    "136, 204); text-decoration: none;\">center</a></font>\"&gt;<span>BMI\n",
    "Calculator</span><span>&lt;/<span class=\"end-tag\">div</span>&gt;<br>\n",
    "&nbsp;<span class=\"Apple-converted-space\">&nbsp;</span></span><span></span><span>&nbsp;\n",
    "&lt;/<span class=\"end-tag\">div</span>&gt;</span><span><span\n",
    "class=\"Apple-converted-space\">&nbsp;</span><span id=\"line42\"></span></span><span><br>\n",
    "&nbsp;&nbsp; &lt;<span class=\"start-tag\">form</span><span\n",
    "class=\"Apple-converted-space\">&nbsp;</span><font\n",
    "color=\"#009900\"><span class=\"attribute-name\">action</span></font>=\"<a\n",
    "href=\"http://127.0.0.1:8888/#\" class=\"attribute-value\"\n",
    "target=\"_blank\" style=\"color: rgb(0, 136, 204);\n",
    "text-decoration: underline;\">#</a>\"&gt;</span><span><br>\n",
    "&nbsp; &nbsp; &nbsp; &nbsp;<span class=\"Apple-converted-space\">&nbsp;</span><span\n",
    "id=\"line43\"></span></span><span>&lt;<span class=\"start-tag\">div</span><span\n",
    "class=\"Apple-converted-space\">&nbsp;</span><font\n",
    "color=\"#009900\"><span class=\"attribute-name\">id</span></font>=\"<font\n",
    "color=\"#cc9933\"><a class=\"attribute-value\" style=\"color:\n",
    "rgb(0, 136, 204); text-decoration: none;\">heightinput</a></font>\"<span\n",
    "class=\"Apple-converted-space\">&nbsp;</span><font\n",
    "color=\"#009900\"><span class=\"attribute-name\">data-role</span></font>=\"<font\n",
    "color=\"#cc9933\"><a class=\"attribute-value\" style=\"color:\n",
    "rgb(0, 136, 204); text-decoration: none;\">fieldcontain</a></font>\"&gt;<br>\n",
    "&nbsp; &nbsp; &nbsp; &nbsp; &nbsp; &nbsp;</span><span><span\n",
    "class=\"Apple-converted-space\">&nbsp;</span><span id=\"line44\"></span></span><span>&lt;<span\n",
    "class=\"start-tag\">label</span></span><font color=\"#009900\"><span\n",
    "class=\"attribute-name\"> for</span></font>=\"<font\n",
    "color=\"#cc9933\"><a class=\"attribute-value\" style=\"color: rgb(0,\n",
    "136, 204); text-decoration: none;\">height</a></font>\"&gt;<span></span><span>&lt;<span\n",
    "class=\"start-tag\">b</span>&gt;</span><span>Height (cm):</span><span>&lt;/<span\n",
    "class=\"end-tag\">b</span>&gt;</span><span></span><span>&lt;/<span\n",
    "class=\"end-tag\">label</span>&gt;</span><span><br>\n",
    "&nbsp; &nbsp; &nbsp; &nbsp; &nbsp;&nbsp;<span\n",
    "class=\"Apple-converted-space\">&nbsp;</span><span id=\"line45\"></span>&nbsp;<span\n",
    "class=\"Apple-converted-space\">&nbsp;</span></span><span>&lt;<span\n",
    "class=\"start-tag\">input</span><span\n",
    "class=\"Apple-converted-space\">&nbsp;</span><font\n",
    "color=\"#009900\"><span class=\"attribute-name\">id</span></font>=\"<font\n",
    "color=\"#cc9933\"><a class=\"attribute-value\" style=\"color:\n",
    "rgb(0, 136, 204); text-decoration: none;\">height</a></font>\"<span\n",
    "class=\"Apple-converted-space\">&nbsp;</span><font\n",
    "color=\"#009900\"><span class=\"attribute-name\">name</span></font>=\"<font\n",
    "color=\"#cc9933\"><a class=\"attribute-value\" style=\"color:\n",
    "rgb(0, 136, 204); text-decoration: none;\">height</a></font>\"<span\n",
    "class=\"Apple-converted-space\">&nbsp;</span><font\n",
    "color=\"#009900\"><span class=\"attribute-name\">type</span></font>=\"<font\n",
    "color=\"#cc9933\"><a class=\"attribute-value\" style=\"color:\n",
    "rgb(0, 136, 204); text-decoration: none;\">range</a></font>\"<span\n",
    "class=\"Apple-converted-space\">&nbsp;</span><font\n",
    "color=\"#009900\"><span class=\"attribute-name\">min</span></font>=\"<font\n",
    "color=\"#cc9933\"><a class=\"attribute-value\" style=\"color:\n",
    "rgb(0, 136, 204); text-decoration: none;\">40</a></font>\"<span\n",
    "class=\"Apple-converted-space\">&nbsp;</span><font\n",
    "color=\"#009900\"><span class=\"attribute-name\">max</span></font>=\"<font\n",
    "color=\"#cc9933\"><a class=\"attribute-value\" style=\"color:\n",
    "rgb(0, 136, 204); text-decoration: none;\">230</a></font>\"<span\n",
    "class=\"Apple-converted-space\">&nbsp;</span><font\n",
    "color=\"#009900\"><span class=\"attribute-name\">step</span></font>=\"<font\n",
    "color=\"#cc9933\"><a class=\"attribute-value\" style=\"color:\n",
    "rgb(0, 136, 204); text-decoration: none;\">1</a></font>\"<span\n",
    "class=\"Apple-converted-space\">&nbsp;</span><font\n",
    "color=\"#009900\"><span class=\"attribute-name\">value</span></font>=\"<font\n",
    "color=\"#cc9933\"><a class=\"attribute-value\" style=\"color:\n",
    "rgb(0, 136, 204); text-decoration: none;\">160</a></font>\"&gt;</span><span><br>\n",
    "&nbsp; &nbsp; &nbsp; &nbsp;<span class=\"Apple-converted-space\">&nbsp;</span><span\n",
    "id=\"line46\"></span></span><span>&lt;/<span class=\"end-tag\">div</span>&gt;</span><span><br>\n",
    "&nbsp; &nbsp; &nbsp; &nbsp;<span class=\"Apple-converted-space\">&nbsp;</span><span\n",
    "id=\"line47\"></span></span><span>&lt;<span class=\"start-tag\">div</span><span\n",
    "class=\"Apple-converted-space\">&nbsp;</span><font\n",
    "color=\"#009900\"><span class=\"attribute-name\">id</span></font>=\"<font\n",
    "color=\"#cc9933\"><a class=\"attribute-value\" style=\"color:\n",
    "rgb(0, 136, 204); text-decoration: none;\">weightinput</a></font>\"<span\n",
    "class=\"Apple-converted-space\">&nbsp;</span><font\n",
    "color=\"#009900\"><span class=\"attribute-name\">data-role</span></font>=\"<font\n",
    "color=\"#cc9933\"><a class=\"attribute-value\" style=\"color:\n",
    "rgb(0, 136, 204); text-decoration: none;\">fieldcontain</a></font>\"&gt;</span><span><br>\n",
    "&nbsp; &nbsp; &nbsp; &nbsp; &nbsp; &nbsp;<span\n",
    "class=\"Apple-converted-space\">&nbsp;</span><span id=\"line48\"></span></span><span>&lt;<span\n",
    "class=\"start-tag\">label</span><span\n",
    "class=\"Apple-converted-space\">&nbsp;</span><font\n",
    "color=\"#009900\"><span class=\"attribute-name\">for</span></font>=\"<font\n",
    "color=\"#cc9933\"><a class=\"attribute-value\" style=\"color:\n",
    "rgb(0, 136, 204); text-decoration: none;\">weight</a></font>\"&gt;</span><span>Weight\n",
    "(kg):</span><span>&lt;/<span class=\"end-tag\">label</span>&gt;<br>\n",
    "&nbsp; &nbsp; &nbsp; &nbsp; &nbsp; &nbsp;</span><span><span\n",
    "class=\"Apple-converted-space\">&nbsp;</span><span id=\"line49\"></span></span><span>&lt;<span\n",
    "class=\"start-tag\">input</span></span><font color=\"#009900\"><span\n",
    "class=\"attribute-name\"> id</span></font>=\"<font\n",
    "color=\"#cc9933\"><a class=\"attribute-value\" style=\"color: rgb(0,\n",
    "136, 204); text-decoration: none;\">weight</a></font>\"<span\n",
    "class=\"Apple-converted-space\">&nbsp;</span><font color=\"#009900\"><span\n",
    "class=\"attribute-name\">type</span></font>=\"<font\n",
    "color=\"#cc9933\"><a class=\"attribute-value\" style=\"color: rgb(0,\n",
    "136, 204); text-decoration: none;\">range</a></font>\"<font\n",
    "color=\"#009900\"><span class=\"Apple-converted-space\">&nbsp;</span><span\n",
    "class=\"attribute-name\">min</span></font>=\"<font\n",
    "color=\"#cc9933\"><a class=\"attribute-value\" style=\"color: rgb(0,\n",
    "136, 204); text-decoration: none;\">10</a></font>\"<span\n",
    "class=\"Apple-converted-space\">&nbsp;</span><font color=\"#009900\"><span\n",
    "class=\"attribute-name\">max</span></font>=\"<font\n",
    "color=\"#cc9933\"><a class=\"attribute-value\" style=\"color: rgb(0,\n",
    "136, 204); text-decoration: none;\">120</a></font>\"<span\n",
    "class=\"Apple-converted-space\">&nbsp;</span><font color=\"#009900\"><span\n",
    "class=\"attribute-name\">step</span></font>=\"<font\n",
    "color=\"#cc9933\"><a class=\"attribute-value\" style=\"color: rgb(0,\n",
    "136, 204); text-decoration: none;\">1</a></font>\"<span\n",
    "class=\"Apple-converted-space\">&nbsp;</span><font color=\"#009900\"><span\n",
    "class=\"attribute-name\">value</span></font>=\"<font\n",
    "color=\"#cc9933\"><a class=\"attribute-value\" style=\"color: rgb(0,\n",
    "136, 204); text-decoration: none;\">60</a></font>\"<span\n",
    "class=\"Apple-converted-space\">&nbsp;</span><font color=\"#009900\"><span\n",
    "class=\"attribute-name\">data-theme</span></font>=\"<font\n",
    "color=\"#cc9933\"><a class=\"attribute-value\" style=\"color: rgb(0,\n",
    "136, 204); text-decoration: none;\">d</a></font>\"<span\n",
    "class=\"Apple-converted-space\">&nbsp;</span><font color=\"#009900\"><span\n",
    "class=\"attribute-name\">data-track-theme</span></font>=\"<font\n",
    "color=\"#cc9933\"><a class=\"attribute-value\" style=\"color: rgb(0,\n",
    "136, 204); text-decoration: none;\">b</a></font>\"&gt;<br>\n",
    "&nbsp; &nbsp; &nbsp;&nbsp;<span><span\n",
    "class=\"Apple-converted-space\">&nbsp;</span><span id=\"line50\"></span></span><span>&lt;/<span\n",
    "class=\"end-tag\">div</span>&gt;</span><span><br>\n",
    "&nbsp; &nbsp; &nbsp;&nbsp;<span class=\"Apple-converted-space\">&nbsp;</span><span\n",
    "id=\"line51\"></span></span><span>&lt;<span class=\"start-tag\">p</span><span\n",
    "class=\"Apple-converted-space\">&nbsp;</span><font\n",
    "color=\"#009900\"><span class=\"attribute-name\">id</span></font>=\"<font\n",
    "color=\"#cc9933\"><a class=\"attribute-value\" style=\"color:\n",
    "rgb(0, 136, 204); text-decoration: none;\">column</a></font>\"&gt;</span><span>BMI\n",
    "=<span class=\"Apple-converted-space\">&nbsp;</span></span><span>&lt;<span\n",
    "class=\"start-tag\">b</span><span class=\"Apple-converted-space\">&nbsp;</span><font\n",
    "color=\"#009900\"><span class=\"attribute-name\">id</span></font>=\"<font\n",
    "color=\"#cc9933\"><a class=\"attribute-value\" style=\"color:\n",
    "rgb(0, 136, 204); text-decoration: none;\">boldStuff</a></font>\"&gt;</span><span><span\n",
    "class=\"Apple-converted-space\">&nbsp;</span>Height / Weight<span\n",
    "class=\"Apple-converted-space\">&nbsp;</span></span><span>&lt;<span\n",
    "class=\"start-tag\">sup</span>&gt;</span><span>2</span><span>&lt;/<span\n",
    "class=\"end-tag\">sup</span>&gt;</span><span></span><span>&lt;/<span\n",
    "class=\"end-tag\">b</span>&gt;</span><span><span\n",
    "class=\"Apple-converted-space\">&nbsp;</span></span><span>&lt;/<span\n",
    "class=\"end-tag\">p</span>&gt;<br>\n",
    "&nbsp; &nbsp; &nbsp;&nbsp;</span><span><span\n",
    "class=\"Apple-converted-space\">&nbsp;</span><span id=\"line52\"></span></span><span>&lt;<span\n",
    "class=\"start-tag\">input</span><span\n",
    "class=\"Apple-converted-space\">&nbsp;</span><font\n",
    "color=\"#009900\"><span class=\"attribute-name\">value</span></font>=\"<a\n",
    "class=\"attribute-value\" style=\"color: rgb(0, 136, 204);\n",
    "text-decoration: none;\">Calculate</a>\"<span\n",
    "class=\"Apple-converted-space\">&nbsp;</span><font\n",
    "color=\"#009900\"><span class=\"attribute-name\">onclick</span></font>=\"<font\n",
    "color=\"#cc9933\"><a class=\"attribute-value\" style=\"color:\n",
    "rgb(0, 136, 204); text-decoration: none;\">calcBMI(this.form.height.value,this.form.weight.value)</a></font>\"</span><font\n",
    "color=\"#009900\"><span class=\"attribute-name\"> type</span></font>=\"<font\n",
    "color=\"#cc9933\"><a class=\"attribute-value\" style=\"color: rgb(0,\n",
    "136, 204); text-decoration: none;\">button</a></font>\"&gt;<br>\n",
    "<span>&nbsp;<span id=\"line53\"></span><span\n",
    "class=\"Apple-converted-space\">&nbsp;</span>&nbsp; &nbsp;&nbsp;<span\n",
    "class=\"Apple-converted-space\">&nbsp;</span></span><span>&lt;<span\n",
    "class=\"start-tag\">p</span><span class=\"Apple-converted-space\">&nbsp;</span><font\n",
    "color=\"#009900\"><span class=\"attribute-name\">id</span></font>=\"<font\n",
    "color=\"#cc9933\"><a class=\"attribute-value\" style=\"color:\n",
    "rgb(0, 136, 204); text-decoration: none;\">audio_position</a></font>\"&gt;</span><span><span\n",
    "class=\"Apple-converted-space\">&nbsp;</span><span id=\"line54\"></span></span><span>&lt;/<span\n",
    "class=\"end-tag\">p</span>&gt;</span><span><span\n",
    "class=\"Apple-converted-space\">&nbsp;</span><br>\n",
    "&nbsp;&nbsp;<span class=\"Apple-converted-space\">&nbsp;</span><span\n",
    "id=\"line55\"></span></span><span>&lt;/<span class=\"end-tag\">form</span>&gt;</span><span><br>\n",
    "</span><span>&lt;/<span class=\"end-tag\">div</span>&gt;</span></p>\n"
   ]
  },
  {
   "cell_type": "markdown",
   "metadata": {
    "slideshow": {
     "slide_type": "subslide"
    }
   },
   "source": [
    "##Result\n",
    "<img src=\"/files/imgs/BMI.png\">"
   ]
  },
  {
   "cell_type": "markdown",
   "metadata": {
    "slideshow": {
     "slide_type": "slide"
    }
   },
   "source": [
    "##CoffeeScript\n",
    "a little language which do help to compiles into JavaScript"
   ]
  },
  {
   "cell_type": "markdown",
   "metadata": {
    "slideshow": {
     "slide_type": "subslide"
    }
   },
   "source": [
    "##BMI.coffee\n",
    "\n",
    "<pre><code>\n",
    "calcBMI = (height, weight) -> weight/(height*0.01)/(height*0.01)\n",
    "</code></pre>"
   ]
  },
  {
   "cell_type": "markdown",
   "metadata": {
    "slideshow": {
     "slide_type": "subslide"
    }
   },
   "source": [
    "##Compile to BMI.js\n",
    "<pre><code>\n",
    "shell > coffee -o js  --compile BMI.coffee\n",
    "shell > cat js/BMI.js\n",
    "(function() {\n",
    "  var calcBMI;\n",
    "\n",
    "  calcBMI = function(height, weight) {\n",
    "    return weight / (height*0.01) / (height*0.01);\n",
    "  };\n",
    "\n",
    "}).call(this);\n",
    "        \n",
    "</code></pre>"
   ]
  },
  {
   "cell_type": "markdown",
   "metadata": {
    "slideshow": {
     "slide_type": "subslide"
    }
   },
   "source": [
    "#Typical command for Canvas\n",
    "New feature of HTML5 for creating on-line picture:<p>\n",
    "\n",
    "&lt;script type=\"<font color=\"#cc6600\">text/javascript</font>\"&gt;<br>\n",
    "window.onload = function {<br>\n",
    "&nbsp;&nbsp; var a_canvas = $(\"a_canvas\");&gt;<br>\n",
    "&nbsp;&nbsp; var context = a_canvas.getContext(\"2d\");<br>\n",
    "&nbsp;&nbsp; ...<br>\n",
    "}<br>\n",
    "&lt;/script&gt;<br>\n",
    "&lt;body&gt;<br>\n",
    "&lt;canvas <font color=\"#3333ff\">id</font>=\"<font color=\"#cc6600\">a_canvas</font>\"  style=\"width:100%; height:100%\"&gt;&lt;/canvas&gt;<br>\n",
    "&lt;/body&gt;<br>\n",
    "<br>\n",
    "<br>\n",
    "**This creates a canvas as follows:**\n",
    "\n",
    " &nbsp;&nbsp; <br>\n",
    "&nbsp;&nbsp; (0,0) -------------------&gt; (0,<i>x</i>)<br>\n",
    "&nbsp;&nbsp;&nbsp;&nbsp;&nbsp; |&nbsp;&nbsp;&nbsp;&nbsp;&nbsp;&nbsp;&nbsp;&nbsp;&nbsp;&nbsp;&nbsp;&nbsp;&nbsp;&nbsp;&nbsp;&nbsp;&nbsp;&nbsp;&nbsp;&nbsp;&nbsp;&nbsp;&nbsp;&nbsp;&nbsp;&nbsp;&nbsp;&nbsp;&nbsp;\n",
    "|<br>\n",
    "&nbsp;&nbsp;&nbsp;&nbsp;&nbsp;\n",
    "|&nbsp;&nbsp;&nbsp;&nbsp;&nbsp;&nbsp;&nbsp;&nbsp;&nbsp;&nbsp;&nbsp;&nbsp;&nbsp;&nbsp;&nbsp;&nbsp;&nbsp;&nbsp;&nbsp;&nbsp;&nbsp;&nbsp;&nbsp;&nbsp;&nbsp;&nbsp;&nbsp;&nbsp;&nbsp;\n",
    "|<br>\n",
    "&nbsp;&nbsp;&nbsp;&nbsp;&nbsp; |\n",
    "&nbsp;&nbsp;&nbsp;&nbsp;&nbsp;&nbsp;&nbsp;&nbsp;&nbsp;&nbsp;&nbsp;&nbsp;&nbsp;&nbsp;&nbsp;&nbsp;&nbsp;&nbsp;&nbsp;&nbsp;&nbsp;&nbsp;&nbsp;&nbsp;&nbsp;&nbsp;&nbsp;&nbsp;\n",
    "|<br>\n",
    "&nbsp;&nbsp;&nbsp;&nbsp;&nbsp;\n",
    "|&nbsp;&nbsp;&nbsp;&nbsp;&nbsp;&nbsp;&nbsp;&nbsp;&nbsp;&nbsp;&nbsp;&nbsp;&nbsp;&nbsp;&nbsp;&nbsp;&nbsp;&nbsp;&nbsp;&nbsp;&nbsp;&nbsp;&nbsp;&nbsp;&nbsp;&nbsp;&nbsp;&nbsp;&nbsp;\n",
    "|<br>\n",
    "&nbsp;&nbsp;&nbsp;&nbsp;&nbsp;\n",
    "v&nbsp;&nbsp;&nbsp;&nbsp;&nbsp;&nbsp;&nbsp;&nbsp;&nbsp;&nbsp;&nbsp;&nbsp;&nbsp;&nbsp;&nbsp;&nbsp;&nbsp;&nbsp;&nbsp;&nbsp;&nbsp;&nbsp;&nbsp;&nbsp;&nbsp;&nbsp;&nbsp;&nbsp;\n",
    "v<br>\n",
    "&nbsp;&nbsp;&nbsp; (0,<i>y</i>) ------------------&gt;&nbsp;&nbsp; (<i>x</i>,<i>y</i>)<br>\n",
    "&nbsp;&nbsp; <br>"
   ]
  },
  {
   "cell_type": "markdown",
   "metadata": {
    "slideshow": {
     "slide_type": "subslide"
    }
   },
   "source": [
    "##Poly-line\n",
    "make a poly-line, (x0,y0) to (x1,y1), ...:<br>\n",
    "<br>\n",
    "context.beginPath();<br>\n",
    "context.moveTo(x0,y0)<br>\n",
    "context.lineTo(x1,y1); <br>\n",
    "...<br>\n",
    "context.closePath();<br>\n",
    "context.strokeStyle=\"<font color=\"#ff0000\">red</font>\";<br>\n",
    "context.stroke();"
   ]
  },
  {
   "cell_type": "markdown",
   "metadata": {
    "slideshow": {
     "slide_type": "subslide"
    }
   },
   "source": [
    "##Simple Pictures\n",
    "**Circle**: $(x,y)=(r \\cos t,r \\sin t)$\n",
    "\n",
    "<p>&nbsp;&nbsp; var dt =1;<br>\n",
    "&nbsp;&nbsp; var pi = Math.PI;<br>\n",
    "&nbsp;&nbsp; context.moveTo(230,200) <br>\n",
    "&nbsp;&nbsp; for (var i=0; i&lt;360+1;\n",
    "i++){&nbsp;&nbsp;&nbsp;&nbsp;&nbsp;&nbsp;&nbsp;&nbsp; <br>\n",
    "&nbsp;&nbsp;&nbsp;&nbsp;&nbsp;&nbsp; var t = -i\\*dt\\*pi/180<br>\n",
    "&nbsp;&nbsp;&nbsp;&nbsp;&nbsp;&nbsp; var x= 200+30\\*(Math.cos(t));<br>\n",
    "&nbsp;&nbsp;&nbsp;&nbsp;&nbsp;&nbsp; var y= 200+30\\*(Math.sin(t));<br>\n",
    "&nbsp;&nbsp;&nbsp;&nbsp;&nbsp;&nbsp;\n",
    "context.lineTo(x,y);&nbsp;&nbsp;&nbsp;&nbsp;&nbsp;&nbsp; <br>\n",
    "&nbsp;&nbsp; }</p>"
   ]
  },
  {
   "cell_type": "markdown",
   "metadata": {
    "slideshow": {
     "slide_type": "subslide"
    }
   },
   "source": [
    "**Cardiac** $r=a+b \\cos t$\n",
    "\n",
    " &nbsp;&nbsp; var dt =1;<br>\n",
    "&nbsp;&nbsp; var pi = Math.PI;<br>\n",
    "&nbsp;&nbsp; context.moveTo(275,200) <br>\n",
    "&nbsp;&nbsp; for (var i=0; i&lt;360+1;\n",
    "i++){&nbsp;&nbsp;&nbsp;&nbsp;&nbsp;&nbsp;&nbsp;&nbsp; <br>\n",
    "&nbsp;&nbsp;&nbsp;&nbsp;&nbsp;&nbsp; var t = -i\\*dt\\*pi/180<br>\n",
    "&nbsp;&nbsp;&nbsp;&nbsp;&nbsp;&nbsp; var x=\n",
    "200+30\\*(1+1.5\\*Math.cos(t))\\*(Math.cos(t));<br>\n",
    "&nbsp;&nbsp;&nbsp;&nbsp;&nbsp;&nbsp; var y=\n",
    "200+30\\*(1+1.5\\*Math.cos(t))\\*(Math.sin(t));<br>\n",
    "&nbsp;&nbsp;&nbsp;&nbsp;&nbsp;&nbsp;\n",
    "context.lineTo(x,y);&nbsp;&nbsp;&nbsp;&nbsp;&nbsp;&nbsp; <br>\n",
    "&nbsp;&nbsp; }"
   ]
  },
  {
   "cell_type": "code",
   "execution_count": 10,
   "metadata": {
    "collapsed": false
   },
   "outputs": [
    {
     "data": {
      "text/plain": [
       "[<matplotlib.lines.Line2D at 0x7f0260735be0>]"
      ]
     },
     "execution_count": 10,
     "metadata": {},
     "output_type": "execute_result"
    },
    {
     "data": {
      "image/png": "[encoded data removed]",
      "text/plain": [
       "<matplotlib.figure.Figure at 0x7f02607a7748>"
      ]
     },
     "metadata": {},
     "output_type": "display_data"
    }
   ],
   "source": [
    "import pylab as plt\n",
    "import numpy as np\n",
    "\n",
    "t=np.linspace(0,2*np.pi,400)\n",
    "\n",
    "figsize(4,4)\n",
    "plt.plot(200+30*(cos(t)+cos(7*t)/2+cos(17*t)/3),200+30*(sin(t)+sin(7*t)/2+sin(17*t)/3))"
   ]
  },
  {
   "cell_type": "markdown",
   "metadata": {
    "slideshow": {
     "slide_type": "subslide"
    }
   },
   "source": [
    "#Interesting picture (above)\n",
    "$$(x,y)=(200+30(\\cos(t)+\\cos(7t)/2+\\cos(17t)/3),200+30(\\sin t+\\sin(7t)/2+\\sin(17t)/3)$$\n",
    "\n",
    "\n",
    "&nbsp;&nbsp; context.beginPath();<br>\n",
    "&nbsp;&nbsp; var x0=200+30\\*(1+1/2+1/3)<br>\n",
    "&nbsp;&nbsp; context.moveTo(x0,200) <br>\n",
    "&nbsp;&nbsp; var pi = Math.PI;<br>\n",
    "&nbsp;&nbsp; for (var i=0; i&lt;300+1;\n",
    "i++){&nbsp;&nbsp;&nbsp;&nbsp;&nbsp;&nbsp;&nbsp;&nbsp; <br>\n",
    "&nbsp;&nbsp;&nbsp;&nbsp;&nbsp;&nbsp; var t = i\\*dt/30\\*pi/10;<br>\n",
    "&nbsp;&nbsp;&nbsp;&nbsp;&nbsp;&nbsp; var x=\n",
    "200+30\\*(Math.cos(t)+Math.cos(7\\*t)/2+Math.cos(17\\*t)/3);<br>\n",
    "&nbsp;&nbsp;&nbsp;&nbsp;&nbsp;&nbsp; var y=\n",
    "200+30\\*(Math.sin(t)+Math.sin(7\\*t)/2+Math.sin(17\\*t)/3);<br>\n",
    "&nbsp;&nbsp;&nbsp;&nbsp;&nbsp;&nbsp;\n",
    "context.lineTo(x,y);&nbsp;&nbsp;&nbsp;&nbsp;&nbsp;&nbsp; <br>\n",
    "&nbsp;&nbsp; }<br>\n",
    "&nbsp;&nbsp; context.closePath();<br>\n",
    "&nbsp;&nbsp; context.strokeStyle=\"red\"; <br>\n",
    "&nbsp;&nbsp; context.stroke();"
   ]
  },
  {
   "cell_type": "markdown",
   "metadata": {
    "slideshow": {
     "slide_type": "subslide"
    }
   },
   "source": [
    "## Animation of Canvas\n",
    "\n",
    "Just play the frame1, clear display, play frame2, clear, and so on. \n",
    "\n",
    "<img src=\"imgs/sprite.png\">"
   ]
  },
  {
   "cell_type": "code",
   "execution_count": 1,
   "metadata": {
    "collapsed": false,
    "slideshow": {
     "slide_type": "subslide"
    }
   },
   "outputs": [],
   "source": [
    "from IPython.display import HTML"
   ]
  },
  {
   "cell_type": "code",
   "execution_count": 2,
   "metadata": {
    "collapsed": false,
    "slideshow": {
     "slide_type": "subslide"
    }
   },
   "outputs": [],
   "source": [
    "canvas=\"\"\"\n",
    "<canvas id=\"myCanvas\" width=\"100\" height=\"100\"></canvas>\n",
    "\"\"\""
   ]
  },
  {
   "cell_type": "code",
   "execution_count": 20,
   "metadata": {
    "collapsed": false,
    "slideshow": {
     "slide_type": "subslide"
    }
   },
   "outputs": [],
   "source": [
    "JSCode=\"\"\"\n",
    "<script>\n",
    "    var width = 100,\n",
    "    height = 100,\n",
    "    frames = 4,                 \n",
    "    currentFrame = 0,\n",
    "                 \n",
    "    canvas = document.getElementById(\"myCanvas\");\n",
    "    ctx = canvas.getContext(\"2d\");\n",
    "    image = new Image()\n",
    "    image.src = 'imgs/sprite.png';\n",
    "         \n",
    "    var draw = function(){\n",
    "        ctx.clearRect(0, 0, width, height);\n",
    "        ctx.drawImage(image, 0, height * currentFrame, width, height, 0, 0, width, height);\n",
    "           \n",
    "        if (currentFrame == frames) {\n",
    "            currentFrame = 0;\n",
    "        } else {\n",
    "            currentFrame++;\n",
    "        }\n",
    "    }\n",
    "    setInterval(draw, 1000/20);\n",
    "</script>\n",
    "\"\"\""
   ]
  },
  {
   "cell_type": "code",
   "execution_count": 21,
   "metadata": {
    "collapsed": false
   },
   "outputs": [
    {
     "data": {
      "text/html": [
       "\n",
       "<canvas id=\"myCanvas\" width=\"100\" height=\"100\"></canvas>\n",
       "\n",
       "<script>\n",
       "    var width = 100,\n",
       "    height = 100,\n",
       "    frames = 4,                 \n",
       "    currentFrame = 0,\n",
       "                 \n",
       "    canvas = document.getElementById(\"myCanvas\");\n",
       "    ctx = canvas.getContext(\"2d\");\n",
       "    image = new Image()\n",
       "    image.src = 'imgs/sprite.png';\n",
       "         \n",
       "    var draw = function(){\n",
       "        ctx.clearRect(0, 0, width, height);\n",
       "        ctx.drawImage(image, 0, height * currentFrame, width, height, 0, 0, width, height);\n",
       "           \n",
       "        if (currentFrame == frames) {\n",
       "            currentFrame = 0;\n",
       "        } else {\n",
       "            currentFrame++;\n",
       "        }\n",
       "    }\n",
       "    setInterval(draw, 1000/20);\n",
       "</script>\n"
      ],
      "text/plain": [
       "<IPython.core.display.HTML object>"
      ]
     },
     "execution_count": 21,
     "metadata": {},
     "output_type": "execute_result"
    }
   ],
   "source": [
    "HTML(canvas+JSCode)"
   ]
  },
  {
   "cell_type": "markdown",
   "metadata": {
    "slideshow": {
     "slide_type": "slide"
    }
   },
   "source": [
    "##Practice\n",
    "Make a equilateral triangle by **canvas** tag."
   ]
  },
  {
   "cell_type": "markdown",
   "metadata": {
    "slideshow": {
     "slide_type": "slide"
    }
   },
   "source": [
    "# JSON Data Introduction\n",
    "\n",
    "1. create file at which json data are stored:\n",
    "         \n",
    "    {\"attendants\":[\n",
    "        {\n",
    "            \"seqNumber\":\"B0102010\",\n",
    "            \"scores\": {\n",
    "                \"MWC\":\"1\",\n",
    "                \"Tutorial\":\"1\",\n",
    "                \"Final\":\"0\"\n",
    "            }\n",
    "        },\n",
    "        {\n",
    "            \"seqNumber\":\"B0141037\",\n",
    "            \"scores\": {\n",
    "                \"MWC\":\"0\",\n",
    "                \"Tutorial\":\"1\",\n",
    "                \"Final\":\"0\"\n",
    "            }\n",
    "        }\n",
    "    }\n",
    "\n",
    "i.e. \n",
    "\n",
    "    attendants[0]: seqNumber  -> B1020010\n",
    "                   scores.MWC -> 1\n",
    "                   scores.Tutorial -> 1\n",
    "                   Scores.Final -> 0\n",
    "    attendants[1]: ... "
   ]
  },
  {
   "cell_type": "markdown",
   "metadata": {
    "slideshow": {
     "slide_type": "slide"
    }
   },
   "source": [
    "# Use JSON\n",
    "  use **getJSON()** to handle data and return output:\n",
    " \n",
    "    <!DOCTYPE html>\n",
    "    <html lang=\"UTF-8\">\n",
    "    <head>\n",
    "       <meta charset=\"utf-8\" />\n",
    "       <title>JSON Sample</title>\n",
    "    </head>\n",
    "    <body>\n",
    "    <div id=\"dataDisplay\"></div>\n",
    "    <script src=\"js/jquery.min.js\"></script>\n",
    "    <script>\n",
    "         $.getJSON('data.json', function(data) {\n",
    "              var output=\"<table border=\\\"1\\\">\n",
    "                      <tr><td><b>Sequence Number</b></td>\n",
    "                          <td><b>MWC</b></td><td><b>Tutorial</b></td><td>    <b>Final</b></td></tr>\";\n",
    "             for (var i in data.attendants) {\n",
    "                 output+=\"<tr>\";\n",
    "                 output+=\"<td>\" + data.attendants[i].seqNumber + \" </td><td> \" + data.attendants[i].scores.MWC + \"</td><td>\" \n",
    "                 +data.attendants[i].scores.Tutorial + \"</td><td>\"+data.attendants[i].scores.Final + \"</td></tr>\";\n",
    "             }\n",
    "\n",
    "             output+=\"</table>\";\n",
    "            document.getElementById(\"dataDisplay\").innerHTML=output;\n",
    "         });\n",
    "     </script>\n",
    "     </body>\n",
    "     </html>\n"
   ]
  },
  {
   "cell_type": "markdown",
   "metadata": {
    "slideshow": {
     "slide_type": "slide"
    }
   },
   "source": [
    "#Introduction Of Google Map\n",
    "\n",
    "Surely, Google map is better than Apple map.\n"
   ]
  },
  {
   "cell_type": "markdown",
   "metadata": {
    "slideshow": {
     "slide_type": "subslide"
    }
   },
   "source": [
    "## Howto\n",
    "\n",
    "To use the Google Map service, there are some standard procedures to do as folows:\n",
    "\n",
    "1. Use javascript library of the Google Map API's:\n",
    "        <script type=\"text/javascript\"\n",
    "            src=\"http://maps.googleapis.com/maps/api/js?sensor=true&language=tw\" >\n",
    "        </script>\n",
    "   option \"sensor=true\": use mobile device\n",
    "\n",
    "2. Initialize the service:\n",
    "        function initialize() {\n",
    "           // Options of Map\n",
    "           var mapOptions = {\n",
    "               center: new google.maps.LatLng(25.034264,121.389395),\n",
    "               zoom: 16,\n",
    "               mapTypeId: google.maps.MapTypeId.ROADP\n",
    "           };\n",
    "           // where the map is displayed\n",
    "           var map = new google.maps.Map(document.getElementById(\"map_canvas\"),\n",
    "               mapOptions);\n",
    "        }\n",
    "3. Run the  code while loaded:     \n",
    "        <body onload=\"initialize()\">\n",
    "        <div id=\"map_canvas\" />"
   ]
  },
  {
   "cell_type": "markdown",
   "metadata": {
    "slideshow": {
     "slide_type": "subslide"
    }
   },
   "source": [
    "##Template (Google Map Codes)\n",
    "A simple demo:\n",
    "\n",
    "<p>&lt;head&gt;<br>\n",
    "&lt;script type=\"text/javascript\"<br>\n",
    "&nbsp;&nbsp;&nbsp;&nbsp;&nbsp;\n",
    "src=\"http://maps.googleapis.com/maps/api/js?sensor=true&amp;language=tw\"\n",
    "&gt;<br>\n",
    "&lt;/script&gt;<br>\n",
    "&lt;script type=\"text/javascript\"&gt;<br>\n",
    "&nbsp;&nbsp;&nbsp;&nbsp;&nbsp; function <font color=\"#3333ff\">initialize()\n",
    "</font>{<br>\n",
    "&nbsp;&nbsp;&nbsp;&nbsp;&nbsp;&nbsp;&nbsp; var mapOptions = {<br>\n",
    "&nbsp;&nbsp;&nbsp;&nbsp;&nbsp;&nbsp;&nbsp;&nbsp;&nbsp; center: new\n",
    "google.maps.LatLng(<font color=\"#cc6600\">25.034264,121.389395</font>),<br>\n",
    "&nbsp;&nbsp;&nbsp;&nbsp;&nbsp;&nbsp;&nbsp;&nbsp;&nbsp; zoom: 16,<br>\n",
    "&nbsp;&nbsp;&nbsp;&nbsp;&nbsp;&nbsp;&nbsp;&nbsp;&nbsp; mapTypeId:\n",
    "google.maps.MapTypeId.ROADP<br>\n",
    "&nbsp;&nbsp;&nbsp;&nbsp;&nbsp;&nbsp;&nbsp; };<br>\n",
    "&nbsp;&nbsp;&nbsp;&nbsp;&nbsp;&nbsp;&nbsp; var map = new <font\n",
    "color=\"#3333ff\">google.maps.Map</font>(document.getElementById(\"map_canvas\"),<br>\n",
    "&nbsp;&nbsp;&nbsp;&nbsp;&nbsp;&nbsp;&nbsp;&nbsp;&nbsp;&nbsp;&nbsp;\n",
    "mapOptions);<br>\n",
    "&nbsp;&nbsp;&nbsp;&nbsp;&nbsp; }<br>\n",
    "&lt;/script&gt;<br>\n",
    "&lt;/head&gt;<br>\n",
    "&lt;body onload=\"<font color=\"#3333ff\">initialize(</font>)\"&gt;<br>\n",
    "&nbsp;&nbsp;&nbsp;&nbsp; &lt;div id=\"map_canvas\" /&gt;<br>\n",
    "&lt;/body&gt;"
   ]
  },
  {
   "cell_type": "markdown",
   "metadata": {
    "slideshow": {
     "slide_type": "subslide"
    }
   },
   "source": [
    "## Mark the place\n",
    "\n",
    "1. define the the latlng of position:\n",
    "        var CGU_latlng = new google.maps.LatLng(25.034264,121.389395);\n",
    " \n",
    "2. create mark:\n",
    "        var marker = new google.maps.Marker({\n",
    "            position: CGU_latlng,\n",
    "            map: gmap,\n",
    "            title:\"Chang-gung University\"\n",
    "        });"
   ]
  },
  {
   "cell_type": "markdown",
   "metadata": {
    "slideshow": {
     "slide_type": "subslide"
    }
   },
   "source": [
    "##Make a Mark\n",
    "&lt;script type=\"text/javascript\"&gt;<br>\n",
    "window.onload = function () {<br>\n",
    "&nbsp;&nbsp;&nbsp; // initialize Google Map<br>\n",
    "&nbsp;&nbsp;&nbsp; var latlng = new\n",
    "google.maps.LatLng(25.034264,121.389395);<br>\n",
    "&nbsp;&nbsp;&nbsp; var mapOptions = {<br>\n",
    "&nbsp;&nbsp;&nbsp;&nbsp;&nbsp;&nbsp;&nbsp; zoom:12, <br>\n",
    "&nbsp;&nbsp;&nbsp;&nbsp;&nbsp;&nbsp;&nbsp; center:latlng, <br>\n",
    "&nbsp;&nbsp;&nbsp;&nbsp;&nbsp;&nbsp;&nbsp; mapTypeId:\n",
    "google.maps.MapTypeId.ROADMAP<br>\n",
    "&nbsp;&nbsp;&nbsp; };<br>\n",
    "&nbsp;&nbsp;&nbsp; var gmap = new\n",
    "google.maps.Map($(\"map_canvas\"), mapOptions);<br>\n",
    "&nbsp;&nbsp;&nbsp; // Show Mark<br>\n",
    "&nbsp;&nbsp;&nbsp; var CGU_latlng = new\n",
    "google.maps.LatLng(25.034264,121.389395);<br>\n",
    "&nbsp;&nbsp;&nbsp; var marker = new google.maps.Marker({<br>\n",
    "&nbsp;&nbsp;&nbsp; &nbsp; position: CGU_latlng, <br>\n",
    "&nbsp;&nbsp;&nbsp; &nbsp; map: gmap, <br>\n",
    "&nbsp;&nbsp;&nbsp; &nbsp; title:\"Chang-gung University\"<br>\n",
    "&nbsp;&nbsp;&nbsp; });<br>\n",
    "};<br>\n",
    "&lt;/script&gt;<br>\n",
    "&lt;body&gt;<br>\n",
    "&nbsp;&nbsp;&nbsp;&nbsp; &lt;div id=\"map_canvas\" /&gt;<br>\n",
    "&lt;/body&gt;"
   ]
  },
  {
   "cell_type": "markdown",
   "metadata": {
    "slideshow": {
     "slide_type": "slide"
    }
   },
   "source": [
    "## Example (Mark draggable)\n",
    "\n",
    "1. Show the mark at defaulted position while loading;\n",
    "2. Use mouse to drag the mark; \n",
    "3. show the Latitude and longitude of the position at which the mark was placed."
   ]
  },
  {
   "cell_type": "markdown",
   "metadata": {
    "slideshow": {
     "slide_type": "subslide"
    }
   },
   "source": [
    "## Basic HTML\n",
    "    <div id=\"map_canvas\" style=\"width: 600px;height: 0px;\"></div><br />\n",
    "    <label for=\"latitude\">Latitude:</label>\n",
    "    <input id=\"latitude\" type=\"text\" value=\"\" />\n",
    "    <label for=\"longitude\">Longitude:</label>\n",
    "    <input id=\"longitude\" type=\"text\" value=\"\" />\n",
    "\n",
    "\n",
    "\n",
    "  <div id=\"map_canvas\" style=\"width: 600px;height: 0px;\"></div>\n",
    "  <br />\n",
    "  <label for=\"latitude\">Latitude:</label>\n",
    "  <input id=\"latitude\" type=\"text\" value=\"\" />\n",
    "  <label for=\"longitude\">Longitude:</label>\n",
    "  <input id=\"longitude\" type=\"text\" value=\"\" />"
   ]
  },
  {
   "cell_type": "markdown",
   "metadata": {
    "slideshow": {
     "slide_type": "subslide"
    }
   },
   "source": [
    "## JavaScript part\n",
    "\n",
    "    \"HTML PART\" Here....\n",
    "    <script type=\"text/javascript\">\n",
    "      var myCoordsLenght = 6;\n",
    "      var defaultLat = 25.034264;\n",
    "      var defaultLng = 121.389395;\n",
    "\n",
    "      function initialize() {\n",
    "         var mapOptions = {\n",
    "             ...\n",
    "         };\n",
    "         var map = new google.maps.Map(document.getElementById(\"map_canvas\"),mapOptions);\n",
    "      \n",
    "         // creates a draggable marker to the given coords    \n",
    "         var myMarker = new google.maps.Marker({\n",
    "             ...\n",
    "         }); \n",
    "\n",
    "         google.maps.event.addListener(myMarker, 'dragend', function(evt){\n",
    "\t         document.getElementById('latitude').value = evt.latLng.lat();\n",
    "\t         document.getElementById('longitude').value = evt.latLng.lng().toFixed(myCoordsLenght);\n",
    "         });\n",
    "\n",
    "         // centers the map on markers coords\n",
    "         map.setCenter(myMarker.position);\n",
    "\n",
    "         // adds the marker on the map\n",
    "         myMarker.setMap(map);\n",
    "      }\n",
    "\n",
    "      google.maps.event.addDomListener(window, 'load', initialize); \n",
    "    </script>"
   ]
  },
  {
   "cell_type": "markdown",
   "metadata": {
    "slideshow": {
     "slide_type": "subslide"
    }
   },
   "source": [
    "## Completed Codes\n",
    "\n",
    "    <html lang=\"en\">\n",
    "    <head>\n",
    "\t   <meta charset=\"utf-8\" />\n",
    "\t   <script type=\"text/javascript\" src=\"http://maps.google.com/maps/api/js?sensor=true\"></script>\n",
    "    </head>\n",
    "    <body>\n",
    "        <div id=\"map_canvas\" style=\"width: 600px;height: 400px;\"></div><br />\n",
    "        <label for=\"latitude\">Latitude:</label>\n",
    "        <input id=\"latitude\" type=\"text\" value=\"\" />\n",
    "        <label for=\"longitude\">Longitude:</label>\n",
    "        <input id=\"longitude\" type=\"text\" value=\"\" />\n",
    "    <script type=\"text/javascript\">\n",
    "      var myCoordsLenght = 6;\n",
    "      var defaultLat = 25.034264;\n",
    "      var defaultLng = 121.389395;\n",
    "\n",
    "      function initialize() {\n",
    "         var mapOptions = {\n",
    "             center: new google.maps.LatLng(defaultLat,defaultLng),\n",
    "             zoom: 16,\n",
    "             mapTypeId: google.maps.MapTypeId.ROADP\n",
    "         };\n",
    "         var map = new google.maps.Map(document.getElementById(\"map_canvas\"),mapOptions);\n",
    "        \n",
    "         var myMarker = new google.maps.Marker({\n",
    "             position: new google.maps.LatLng(defaultLat, defaultLng),\n",
    "             draggable: true\n",
    "         }); \n",
    "\n",
    "         google.maps.event.addListener(myMarker, 'dragend', function(evt){\n",
    "\t         document.getElementById('latitude').value = evt.latLng.lat();\n",
    "\t         document.getElementById('longitude').value = evt.latLng.lng().toFixed(myCoordsLenght);\n",
    "         });\n",
    "\n",
    "         map.setCenter(myMarker.position);\n",
    "         myMarker.setMap(map);\n",
    "      }\n",
    "      google.maps.event.addDomListener(window, 'load', initialize); \n",
    "    </script>\n",
    "    </body></html>"
   ]
  },
  {
   "cell_type": "markdown",
   "metadata": {
    "slideshow": {
     "slide_type": "slide"
    }
   },
   "source": [
    "## Distance Measurement\n",
    "  \n",
    "1. use libarary:\n",
    "    \n",
    "        <head>\n",
    "\t      <script type=\"text/javascript\"   \n",
    "\t         src=\"http://maps.google.com/maps/api/js?sensor=true&v=3&libraries=geometry\"></script>\n",
    "        </head>\n",
    "  \n",
    "2. where the measurement is placed:\n",
    "        \n",
    "        <label>\t\n",
    "\t        The distance from Chang-Gung University to Destination: <div id=\"distanceAB\"></div>\n",
    "\t    <label>\n",
    "\n",
    "3. calculate the distance, set new coordinates, then measure by **\"google.maps.geometry.spherical.computeDistanceBetween()\"**:\n",
    "        \n",
    "        google.maps.event.addListener(myMarker, 'dragend', function(evt){  \n",
    "           var newLat=evt.latLng.lat();\n",
    "           var newLng=evt.latLng.lng().toFixed(myCoordsLenght);\n",
    "\t       document.getElementById('latitude').value = newLat;\n",
    "\t       document.getElementById('longitude').value = newLng;\n",
    "\t       var loc2 = new google.maps.LatLng(newLat, newLng);\n",
    "\t       document.getElementById('distanceAB').innerHTML =\n",
    "\t            Math.round(google.maps.geometry.spherical.computeDistanceBetween (loc1, loc2))+'  m';\n",
    "        });"
   ]
  },
  {
   "cell_type": "markdown",
   "metadata": {},
   "source": [
    "<h3>Make a note via Google Map</h3>\n",
    "\n",
    "Create an arraay of latitude/longitude list for which we are interested. Move the marker to the place which we select from the HTML options."
   ]
  },
  {
   "cell_type": "markdown",
   "metadata": {},
   "source": [
    "- <big>create the html options</big>\n",
    "<br>\n",
    "\n",
    "       <select id=\"PosMenu\">\n",
    "          <option value=\"0\">Library</option>\n",
    "          <option value=\"1\">National Sport University</option>\n",
    "          <option value=\"2\">Post Office</option>\n",
    "       </select>\n",
    "       <div id=\"distanceAC\">__</div>\"\n",
    "<br>\n",
    "Result:\n",
    "<br>\n",
    "<select id=\"PosMenu\">\n",
    "    <option value=\"0\">Library</option>\n",
    "    <option value=\"1\">National Sport University</option>\n",
    "    <option value=\"2\">Post Office</option>\n",
    "</select>\n",
    "<div id=\"distanceAC\">__</div>"
   ]
  },
  {
   "cell_type": "markdown",
   "metadata": {},
   "source": [
    "- <big>Array in Javascript</big>\n",
    "<br>\n",
    "\n",
    "    var loc = [[25.034225,121.390168],[25.032047,121.386692],[25.032514, 121.390661]]\n",
    "    "
   ]
  },
  {
   "cell_type": "markdown",
   "metadata": {},
   "source": [
    "- <big>show the marker at the place on the map while option  was selected:</big>\n",
    "<br>\n",
    "\n",
    "    document.getElementById('PosMenu').onchange = function() {\n",
    "       var index = this.value; \n",
    "\n",
    "       var loc2 = new google.maps.LatLng(loc[index][0], loc[index][1]);\n",
    "       document.getElementById('distanceAC').innerHTML =\n",
    "          Math.round(google.maps.geometry.spherical.computeDistanceBetween (loc1, loc2))+'  m';\n",
    "       var newMarker = new google.maps.Marker({\n",
    "          position: new google.maps.LatLng(loc[index][0], loc[index][1]),\n",
    "          draggable: myMarkerIsDraggable\n",
    "       });\n",
    "\n",
    "       // centers the map on markers coords\n",
    "       var mapOptions = {\n",
    "          ...\n",
    "       };\n",
    "\n",
    "       var map = new google.maps.Map(document.getElementById(\"map_canvas\"),mapOptions)\n",
    "\n",
    "       google.maps.event.addListener(newMarker, 'dragend', function(evt){  \n",
    "          var newLat=evt.latLng.lat();\n",
    "          var newLng=evt.latLng.lng().toFixed(myCoordsLenght);\n",
    "\t      document.getElementById('latitude').value = newLat;\n",
    "\t      document.getElementById('longitude').value = newLng;\n",
    "\t      var loc2 = new google.maps.LatLng(newLat, newLng);\n",
    "\t      document.getElementById('distanceAB').innerHTML =\n",
    "\t      Math.round(google.maps.geometry.spherical.computeDistanceBetween (loc1, loc2))+'  m';\n",
    "        });\n",
    "\n",
    "        map.setCenter(newMarker.position);\n",
    "        newMarker.setMap(map)\n",
    "     }"
   ]
  },
  {
   "cell_type": "code",
   "execution_count": 3,
   "metadata": {
    "collapsed": false
   },
   "outputs": [
    {
     "name": "stdout",
     "output_type": "stream",
     "text": [
      "<!doctype html>\r\n",
      "<html lang=\"en\">\r\n",
      "<head>\r\n",
      "\t<meta charset=\"utf-8\" />\r\n",
      "\t<title></title>\r\n",
      "\t<script type=\"text/javascript\"   \r\n",
      "\t   src=\"http://maps.google.com/maps/api/js?sensor=true&v=3&libraries=geometry\"></script>\r\n",
      "</head>\r\n",
      "\r\n",
      "\r\n",
      "<body>\r\n",
      "\r\n",
      "\t<div id=\"map_canvas\" style=\"width: 600px;height: 400px;\"></div>\r\n",
      "\t<br />\r\n",
      "\t<label for=\"latitude\">Latitude:</label>\r\n",
      "\t<input id=\"latitude\" type=\"text\" value=\"\" />\r\n",
      "\t<label for=\"longitude\">Longitude:</label>\r\n",
      "\t<input id=\"longitude\" type=\"text\" value=\"\" />\r\n",
      "\t\r\n",
      "\t<br><label>\t\r\n",
      "\tThe distance from Chang-Gung University to Destination: <div id=\"distanceAB\"></div>\r\n",
      "\t<label>\r\n",
      "\t<br>\t\r\n",
      "\t  The distance from Chang-Gung University to Destination\r\n",
      "\t  <select id=\"PosMenu\">\r\n",
      "              <option value=\"0\">library</option>\r\n",
      "              <option value=\"1\">NSU</option>\r\n",
      "              <option value=\"2\">PO</option>\r\n",
      "          </select>\r\n",
      "\t   <div id=\"distanceAC\"></div>\r\n",
      "\t\r\n",
      "<script type=\"text/javascript\">\r\n",
      "var myZoom = 16;\r\n",
      "var myMarkerIsDraggable = true;\r\n",
      "var myCoordsLenght = 6;\r\n",
      "var defaultLat = 25.035255529260443;\r\n",
      "var defaultLng = 121.389524;\r\n",
      "var loc1 = new google.maps.LatLng(25.035255529260443, 121.389524);\r\n",
      "\r\n",
      "var loc = [[25.034225,121.390168],[25.032047,121.386692],[25.032514, 121.390661]];\r\n",
      "\r\n",
      "function initialize() {\r\n",
      "    var mapOptions = {\r\n",
      "          center: new google.maps.LatLng(defaultLat,defaultLng),\r\n",
      "          zoom: myZoom,\r\n",
      "          mapTypeId: google.maps.MapTypeId.ROADP\r\n",
      "    };\r\n",
      "    var map = new google.maps.Map(document.getElementById(\"map_canvas\"),mapOptions);\r\n",
      "    // creates a draggable marker to the given coords   -3.118-3.118\r\n",
      "    \r\n",
      "    var myMarker = new google.maps.Marker({\r\n",
      "    position: new google.maps.LatLng(defaultLat, defaultLng),\r\n",
      "    draggable: myMarkerIsDraggable\r\n",
      "    }); \r\n",
      "\r\n",
      "\r\n",
      "    google.maps.event.addListener(myMarker, 'dragend', function(evt){  \r\n",
      "        var newLat=evt.latLng.lat();\r\n",
      "        var newLng=evt.latLng.lng().toFixed(myCoordsLenght);\r\n",
      "\tdocument.getElementById('latitude').value = newLat;\r\n",
      "\tdocument.getElementById('longitude').value = newLng;\r\n",
      "\tvar loc2 = new google.maps.LatLng(newLat, newLng);\r\n",
      "\tdocument.getElementById('distanceAB').innerHTML =\r\n",
      "\t   Math.round(google.maps.geometry.spherical.computeDistanceBetween (loc1, loc2))+'  m';\r\n",
      "\r\n",
      "    });\r\n",
      "    \r\n",
      "    // centers the map on markers coords\r\n",
      "    map.setCenter(myMarker.position);\r\n",
      "\r\n",
      "    // adds the marker on the map\r\n",
      "    myMarker.setMap(map);\r\n",
      "}\r\n",
      "\r\n",
      "google.maps.event.addDomListener(window, 'load', initialize);\r\n",
      "\r\n",
      "document.getElementById('PosMenu').onchange = function() {\r\n",
      "  var index = this.value; // array indices start at 0\r\n",
      "  //alert(loc[index][0]);\r\n",
      "  var loc2 = new google.maps.LatLng(loc[index][0], loc[index][1]);\r\n",
      "  document.getElementById('distanceAC').innerHTML =\r\n",
      "  Math.round(google.maps.geometry.spherical.computeDistanceBetween (loc1, loc2))+'  m';\r\n",
      "  var newMarker = new google.maps.Marker({\r\n",
      "    position: new google.maps.LatLng(loc[index][0], loc[index][1]),\r\n",
      "    draggable: myMarkerIsDraggable\r\n",
      "  });\r\n",
      "\r\n",
      "  // centers the map on markers coords\r\n",
      "  var mapOptions = {\r\n",
      "          center: new google.maps.LatLng(defaultLat,defaultLng),\r\n",
      "          zoom: myZoom,\r\n",
      "          mapTypeId: google.maps.MapTypeId.ROADP\r\n",
      "    };\r\n",
      "\r\n",
      "   var map = new google.maps.Map(document.getElementById(\"map_canvas\"),mapOptions)\r\n",
      "\r\n",
      "   google.maps.event.addListener(newMarker, 'dragend', function(evt){  \r\n",
      "        var newLat=evt.latLng.lat();\r\n",
      "        var newLng=evt.latLng.lng().toFixed(myCoordsLenght);\r\n",
      "\tdocument.getElementById('latitude').value = newLat;\r\n",
      "\tdocument.getElementById('longitude').value = newLng;\r\n",
      "\tvar loc2 = new google.maps.LatLng(newLat, newLng);\r\n",
      "\tdocument.getElementById('distanceAB').innerHTML =\r\n",
      "\t   Math.round(google.maps.geometry.spherical.computeDistanceBetween (loc1, loc2))+'  m';\r\n",
      "\r\n",
      "    });\r\n",
      "\r\n",
      "  map.setCenter(newMarker.position);\r\n",
      "\r\n",
      "  // adds the marker on the map\r\n",
      "  newMarker.setMap(map)\r\n",
      "\r\n",
      "}\r\n",
      "</script>\r\n",
      "\r\n",
      "</body>\r\n",
      "</html>\r\n"
     ]
    }
   ],
   "source": [
    "%%bash\n",
    "\n",
    "cat GPSCoord-3.html"
   ]
  },
  {
   "cell_type": "code",
   "execution_count": null,
   "metadata": {
    "collapsed": true
   },
   "outputs": [],
   "source": []
  },
  {
   "cell_type": "markdown",
   "metadata": {
    "slideshow": {
     "slide_type": "slide"
    }
   },
   "source": [
    "##Make Poly-line\n",
    "&lt;script type=\"text/javascript\"&gt;<br>\n",
    "window.onload = function () {<br>\n",
    "&nbsp;&nbsp;&nbsp; var latlng = new\n",
    "google.maps.LatLng(25.034264,121.389395);<br>\n",
    "&nbsp;&nbsp;&nbsp; var mapOptions = {<br>\n",
    "&nbsp;&nbsp;&nbsp;&nbsp;&nbsp;&nbsp;&nbsp; zoom:12, <br>\n",
    "&nbsp;&nbsp;&nbsp;&nbsp;&nbsp;&nbsp;&nbsp; center:latlng, <br>\n",
    "&nbsp;&nbsp;&nbsp;&nbsp;&nbsp;&nbsp;&nbsp; mapTypeId:\n",
    "google.maps.MapTypeId.ROADMAP<br>\n",
    "&nbsp;&nbsp;&nbsp; };<br>\n",
    "&nbsp;&nbsp;&nbsp; var gmap = new\n",
    "google.maps.Map($(\"map_canvas\"), mapOptions);<br>\n",
    "<br>\n",
    "&nbsp;&nbsp;&nbsp; var Coordinates = [<br>\n",
    "&nbsp;&nbsp;&nbsp; &nbsp;&nbsp;&nbsp; new\n",
    "google.maps.LatLng(25.034264,121.389395),<br>\n",
    "&nbsp;&nbsp;&nbsp; &nbsp;&nbsp;&nbsp; new\n",
    "google.maps.LatLng(25.034264,121.391395),<br>\n",
    "&nbsp;&nbsp;&nbsp; &nbsp;&nbsp;&nbsp; new\n",
    "google.maps.LatLng(25.036264,121.391395),<br>\n",
    "&nbsp; &nbsp;&nbsp; ];<br>\n",
    "&nbsp; &nbsp;&nbsp; var flightPath = new\n",
    "google.maps.Polyline({<br>\n",
    "&nbsp;&nbsp;&nbsp; &nbsp;&nbsp;&nbsp; path: Coordinates,<br>\n",
    "&nbsp;&nbsp;&nbsp; &nbsp;&nbsp;&nbsp; strokeColor: \"#FF0000\",<br>\n",
    "&nbsp;&nbsp;&nbsp; &nbsp;&nbsp;&nbsp; strokeOpacity: 1.0,<br>\n",
    "&nbsp;&nbsp;&nbsp; &nbsp;&nbsp;&nbsp; strokeWeight: 3,<br>\n",
    "&nbsp;&nbsp;&nbsp; &nbsp;&nbsp;&nbsp; map: gmap<br>\n",
    "&nbsp; &nbsp;&nbsp; });<br>\n",
    "&nbsp;};<br>\n",
    "&lt;/script&gt;<br>\n",
    "&lt;/head&gt;&lt;body&gt;<br>\n",
    "&lt;div id=\"map_canvas\" /&gt;"
   ]
  },
  {
   "cell_type": "markdown",
   "metadata": {
    "slideshow": {
     "slide_type": "slide"
    }
   },
   "source": [
    "#Practice\n",
    "\n",
    "Make a squre around your dormitory and estimate the base area of the building.\n"
   ]
  },
  {
   "cell_type": "markdown",
   "metadata": {
    "slideshow": {
     "slide_type": "slide"
    }
   },
   "source": [
    "##More about Google Map\n",
    "\n",
    "The steps to solve the last practice: <br>\n",
    "\n",
    "1. Find the the (latitude, longitude)'s of end-points of building;\n",
    "2. make a closed polygon formed by the points found above;\n",
    "3. calculate the area of polygon above."
   ]
  },
  {
   "cell_type": "markdown",
   "metadata": {
    "slideshow": {
     "slide_type": "subslide"
    }
   },
   "source": [
    "##code1-1\n",
    "&lt;head&gt;<br>\n",
    "&nbsp;&nbsp;&nbsp;&nbsp; &lt;meta charset=\"utf-8\" /&gt;<br>\n",
    "&nbsp;&nbsp;&nbsp;&nbsp; &lt;title&gt;Laditude and Longitude&lt;/title&gt;<br>\n",
    "&nbsp;&nbsp;&nbsp;&nbsp; &lt;script type=\"text/javascript\" src=\"http://maps.google.com/maps/api/js?sensor=true\" &gt;&lt;/script&gt; <br>\n",
    "&nbsp;&lt;/head&gt;\n"
   ]
  },
  {
   "cell_type": "markdown",
   "metadata": {
    "slideshow": {
     "slide_type": "subslide"
    }
   },
   "source": [
    "##code1-2\n",
    " &lt;body&gt;<br>\n",
    "&nbsp;&nbsp; &lt;div id=\"map_canvas\" style=\"width: 600px;height:\n",
    "400px;\"&gt;&lt;/div&gt;&lt;br&gt;<br>\n",
    "&nbsp;&nbsp; &lt;label for=\"latitude\"&gt;Latitude:&lt;/label&gt;<br>\n",
    "&nbsp;&nbsp; &lt;input id=\"latitude\" type=\"text\" value=\"\" /&gt;<br>\n",
    "&nbsp;&nbsp; &lt;label for=\"longitude\"&gt;Longitude:&lt;/label&gt;<br>\n",
    "&nbsp;&nbsp; &lt;input id=\"longitude\" type=\"text\" value=\"\" /&gt;<br>\n",
    "&lt;script type=\"text/javascript\"&gt;<br>\n",
    "&nbsp; var myZoom = 16;<br>\n",
    "&nbsp; var myMarkerIsDraggable = true;<br>\n",
    "&nbsp; var myCoordsLenght = 6;<br>\n",
    "&nbsp; var defaultLat = 25.034264;<br>\n",
    "&nbsp; var defaultLng = 121.389395;<br>\n",
    "<br>\n",
    "&nbsp; function initialize() {<br>\n",
    "&nbsp;&nbsp;&nbsp; var mapOptions = {<br>\n",
    "&nbsp;&nbsp;&nbsp;&nbsp;&nbsp;&nbsp;&nbsp;&nbsp;&nbsp; center: new\n",
    "google.maps.LatLng(defaultLat,defaultLng),<br>\n",
    "&nbsp;&nbsp;&nbsp;&nbsp;&nbsp;&nbsp;&nbsp;&nbsp;&nbsp; zoom: myZoom,<br>\n",
    "&nbsp;&nbsp;&nbsp;&nbsp;&nbsp;&nbsp;&nbsp;&nbsp;&nbsp; mapTypeId:\n",
    "google.maps.MapTypeId.ROADP<br>\n",
    "&nbsp;&nbsp;&nbsp; };<br>\n",
    "&nbsp;&nbsp;&nbsp; var map = new\n",
    "google.maps.Map(document.getElementById(\"map_canvas\"),mapOptions);<br>\n",
    "&nbsp;&nbsp; &nbsp;<br>\n",
    "&nbsp;&nbsp;&nbsp; // creates a draggable marker to the given\n",
    "coords&nbsp;&nbsp;&nbsp;&nbsp; &nbsp;<br>\n",
    "&nbsp;&nbsp;&nbsp; var myMarker = new google.maps.Marker({<br>\n",
    "&nbsp;&nbsp;&nbsp; position: new google.maps.LatLng(defaultLat,\n",
    "defaultLng),<br>\n",
    "&nbsp;&nbsp;&nbsp; draggable: myMarkerIsDraggable<br>\n",
    "&nbsp;&nbsp;&nbsp; }); <br>\n",
    "<br>\n",
    "&nbsp;&nbsp;&nbsp; google.maps.event.addListener(myMarker,\n",
    "'dragend', function(evt){<br>\n",
    "&nbsp;&nbsp; &nbsp;document.getElementById('latitude').value =\n",
    "evt.latLng.lat().toFixed(myCoordsLenght);<br>\n",
    "&nbsp;&nbsp; &nbsp;document.getElementById('longitude').value =\n",
    "evt.latLng.lng().toFixed(myCoordsLenght);<br>\n",
    "&nbsp;&nbsp;&nbsp; });<br>\n",
    "<br>\n",
    "&nbsp;&nbsp;&nbsp; // centers the map on markers coords<br>\n",
    "&nbsp;&nbsp;&nbsp; map.setCenter(myMarker.position);<br>\n",
    "<br>\n",
    "&nbsp;&nbsp;&nbsp; // adds the marker on the map<br>\n",
    "&nbsp;&nbsp;&nbsp; myMarker.setMap(map);<br>\n",
    "&nbsp; }<br>\n",
    "<br>\n",
    "&nbsp; google.maps.event.addDomListener(window, 'load', initialize);\n",
    "<br>\n",
    "&lt;/script&gt;<br>\n",
    "&lt;/body&gt;\n"
   ]
  },
  {
   "cell_type": "markdown",
   "metadata": {
    "slideshow": {
     "slide_type": "subslide"
    }
   },
   "source": [
    "##Code2-1\n",
    " &nbsp; &lt;script&gt;<br>\n",
    "&nbsp; // This example creates a simple polygon representing the\n",
    "library building in CGU .<br>\n",
    "&nbsp; var myZoom = 16;<br>\n",
    "&nbsp; //var myMarkerIsDraggable = true;<br>\n",
    "&nbsp; //var myCoordsLenght = 6;<br>\n",
    "&nbsp; var defaultLat = 25.034264;<br>\n",
    "&nbsp; var defaultLng = 121.389395;<br>\n",
    "<br>\n",
    "&nbsp; function initialize() {<br>\n",
    "&nbsp;&nbsp;&nbsp; var mapOptions = {<br>\n",
    "&nbsp;&nbsp;&nbsp;&nbsp;&nbsp;&nbsp;&nbsp;&nbsp;&nbsp; center: new\n",
    "google.maps.LatLng(defaultLat,defaultLng),<br>\n",
    "&nbsp;&nbsp;&nbsp;&nbsp;&nbsp;&nbsp;&nbsp;&nbsp;&nbsp; zoom: myZoom,<br>\n",
    "&nbsp;&nbsp;&nbsp;&nbsp;&nbsp;&nbsp;&nbsp;&nbsp;&nbsp; mapTypeId:\n",
    "google.maps.MapTypeId.TERRAIN<br>\n",
    "&nbsp;&nbsp;&nbsp; };<br>\n",
    "&nbsp;&nbsp;&nbsp; var map = new\n",
    "google.maps.Map(document.getElementById('map_canvas'),mapOptions);<br>\n",
    "<br>\n",
    "&nbsp;&nbsp;&nbsp; // Define the LatLng coordinates for the\n",
    "polygon's path.<br>\n",
    "&nbsp;&nbsp;&nbsp; var PolygonCoords = [<br>\n",
    "&nbsp;&nbsp;&nbsp;&nbsp;&nbsp;&nbsp;&nbsp; new\n",
    "google.maps.LatLng(25.034200,121.390527),<br>\n",
    "&nbsp;&nbsp;&nbsp;&nbsp;&nbsp;&nbsp;&nbsp; new\n",
    "google.maps.LatLng(25.034020,121.390790),<br>\n",
    "&nbsp;&nbsp;&nbsp;&nbsp;&nbsp;&nbsp;&nbsp; new\n",
    "google.maps.LatLng(25.033413,121.390237),<br>\n",
    "&nbsp;&nbsp;&nbsp;&nbsp;&nbsp;&nbsp;&nbsp; new\n",
    "google.maps.LatLng(25.033612,121.390001),<br>\n",
    "&nbsp;&nbsp;&nbsp;&nbsp;&nbsp;&nbsp;&nbsp; new\n",
    "google.maps.LatLng(25.034200,121.390527)<br>\n",
    "&nbsp;&nbsp;&nbsp; ];<br>\n",
    "&nbsp;&nbsp;&nbsp; // Construct thepolygon.<br>\n",
    "&nbsp;&nbsp;&nbsp; var myPolygon;<br>\n",
    "&nbsp;&nbsp;&nbsp; myPolygon= new google.maps.Polygon({<br>\n",
    "&nbsp;&nbsp;&nbsp;&nbsp;&nbsp; paths: PolygonCoords,<br>\n",
    "&nbsp;&nbsp;&nbsp;&nbsp;&nbsp; strokeColor: '#FF0000',<br>\n",
    "&nbsp;&nbsp;&nbsp;&nbsp;&nbsp; strokeOpacity: 0.8,<br>\n",
    "&nbsp;&nbsp;&nbsp;&nbsp;&nbsp; strokeWeight: 2,<br>\n",
    "&nbsp;&nbsp;&nbsp;&nbsp;&nbsp; fillColor: '#FF0000',<br>\n",
    "&nbsp;&nbsp;&nbsp;&nbsp;&nbsp; fillOpacity: 0.35<br>\n",
    "&nbsp;&nbsp;&nbsp; });<br>\n",
    "&nbsp;&nbsp;&nbsp; myPolygon.setMap(map);<br>\n",
    "&nbsp; }<br>\n",
    "&nbsp; google.maps.event.addDomListener(window, 'load', initialize);<br>\n",
    "&nbsp; &lt;/script&gt;\n"
   ]
  },
  {
   "cell_type": "markdown",
   "metadata": {
    "slideshow": {
     "slide_type": "subslide"
    }
   },
   "source": [
    "##Code2-2\n",
    " &nbsp; &lt;body&gt;<br>\n",
    "&nbsp;&nbsp;&nbsp; &lt;div id=\"map_canvas\" style=\"width:\n",
    "600px;height: 400px;\"&gt;&lt;/div&gt;<br>\n",
    "&nbsp; &lt;/body&gt;"
   ]
  },
  {
   "cell_type": "markdown",
   "metadata": {
    "slideshow": {
     "slide_type": "subslide"
    }
   },
   "source": [
    "##Code3-1\n",
    " &lt;script type=\"text/javascript\"\n",
    "src=\"https://maps.googleapis.com/maps/api/js?libraries=geometry&amp;sensor=false\" &gt; &lt;/script &gt;<br>\n",
    "&lt;script type=\"text/javascript\"&gt;<br>\n",
    "&nbsp;&nbsp;&nbsp; var myZoom = 16;<br>\n",
    "&nbsp;&nbsp;&nbsp; var myMarkerIsDraggable = true;<br>\n",
    "&nbsp;&nbsp;&nbsp; var myCoordsLenght = 6;<br>\n",
    "&nbsp;&nbsp;&nbsp; var defaultLat = 25.034264;<br>\n",
    "&nbsp;&nbsp;&nbsp; var defaultLng = 121.389395;<br>\n",
    "&nbsp;&nbsp;&nbsp; var map;<br>\n",
    "&nbsp;&nbsp;&nbsp; function initialize(){<br>\n",
    "&nbsp;&nbsp;&nbsp;&nbsp;&nbsp;&nbsp;&nbsp; var mapOptions = {<br>\n",
    "&nbsp;&nbsp;&nbsp;&nbsp;&nbsp;&nbsp;&nbsp;&nbsp;&nbsp; center: new\n",
    "google.maps.LatLng(defaultLat,defaultLng),<br>\n",
    "&nbsp;&nbsp;&nbsp;&nbsp;&nbsp;&nbsp;&nbsp;&nbsp;&nbsp; zoom: myZoom,<br>\n",
    "&nbsp;&nbsp;&nbsp;&nbsp;&nbsp;&nbsp;&nbsp;&nbsp;&nbsp; mapTypeId:\n",
    "google.maps.MapTypeId.ROADP<br>\n",
    "&nbsp;&nbsp;&nbsp;&nbsp;&nbsp;&nbsp;&nbsp; };<br>\n",
    "&nbsp;&nbsp;&nbsp;&nbsp;&nbsp;&nbsp;&nbsp; var map = new\n",
    "google.maps.Map(document.getElementById(\"map_canvas\"),mapOptions);\n",
    "&nbsp;&nbsp;&nbsp; <br>\n",
    "&nbsp;&nbsp;&nbsp; }<br>\n",
    "&nbsp;&nbsp;&nbsp; google.maps.event.addDomListener(window, 'load',\n",
    "initialize);<br>\n",
    "&lt;/script&gt;"
   ]
  },
  {
   "cell_type": "markdown",
   "metadata": {
    "slideshow": {
     "slide_type": "subslide"
    }
   },
   "source": [
    "##Code3-2\n",
    "\n",
    " &lt;script&gt;<br>\n",
    "&nbsp;&nbsp; function test(){<br>\n",
    "&nbsp;&nbsp;&nbsp;&nbsp;&nbsp;&nbsp;&nbsp; var arr = new Array()<br>\n",
    "&nbsp;&nbsp;&nbsp;&nbsp;&nbsp;&nbsp;&nbsp;\n",
    "arr.push('25.034200,121.390527');<br>\n",
    "&nbsp;&nbsp;&nbsp;&nbsp;&nbsp;&nbsp;&nbsp;\n",
    "arr.push('25.034020,121.390790');<br>\n",
    "&nbsp;&nbsp;&nbsp;&nbsp;&nbsp;&nbsp;&nbsp;\n",
    "arr.push('25.033413,121.390237');<br>\n",
    "&nbsp;&nbsp;&nbsp;&nbsp;&nbsp;&nbsp;&nbsp;\n",
    "arr.push('25.033612,121.390001');<br>\n",
    "&nbsp;&nbsp;&nbsp;&nbsp;&nbsp;&nbsp;&nbsp;\n",
    "arr.push('25.034200,121.390527');<br>\n",
    "&nbsp;&nbsp;&nbsp;&nbsp;&nbsp;&nbsp;&nbsp; AreaComp(arr);<br>\n",
    "&nbsp;&nbsp; }<br>\n",
    "&nbsp;&nbsp; function AreaComp(CoordArr){<br>\n",
    "&nbsp;&nbsp;&nbsp;&nbsp;&nbsp; var a = new Array();<br>\n",
    "<br>\n",
    "&nbsp;&nbsp;&nbsp;&nbsp;&nbsp; for(var i=0; i&lt;CoordArr.length;\n",
    "i++){<br>\n",
    "&nbsp;&nbsp;&nbsp;&nbsp;&nbsp;&nbsp;&nbsp;&nbsp;&nbsp; var point =\n",
    "CoordArr[i].split(\",\");<br>\n",
    "&nbsp;&nbsp;&nbsp;&nbsp;&nbsp;&nbsp;&nbsp;&nbsp;&nbsp; a[i] = new\n",
    "google.maps.LatLng(point[0],point[1]);<br>\n",
    "&nbsp;&nbsp;&nbsp;&nbsp;&nbsp; }<br>\n",
    "<br>\n",
    "&nbsp;&nbsp;&nbsp;&nbsp;&nbsp; mypolygon = new google.maps.Polygon({<br>\n",
    "&nbsp;&nbsp;&nbsp;&nbsp;&nbsp;&nbsp;&nbsp; paths: a,<br>\n",
    "&nbsp;&nbsp;&nbsp;&nbsp;&nbsp;&nbsp;&nbsp; strokeColor: \"#22B14C\",<br>\n",
    "&nbsp;&nbsp;&nbsp;&nbsp;&nbsp;&nbsp;&nbsp; strokeOpacity: 0.8,<br>\n",
    "&nbsp;&nbsp;&nbsp;&nbsp;&nbsp;&nbsp;&nbsp; strokeWeight: 2,<br>\n",
    "&nbsp;&nbsp;&nbsp;&nbsp;&nbsp;&nbsp;&nbsp; fillColor:\n",
    "\"#22B14C\",&nbsp; &nbsp;<br>\n",
    "&nbsp;&nbsp;&nbsp;&nbsp;&nbsp;&nbsp;&nbsp; fillOpacity: 0.35&nbsp;\n",
    "&nbsp;<br>\n",
    "&nbsp;&nbsp;&nbsp;&nbsp; }) &nbsp;<br>\n",
    "<br>\n",
    "&nbsp;&nbsp;&nbsp;&nbsp; mypolygon.setMap(map);//until here is ok <br>\n",
    "&nbsp;&nbsp;&nbsp;&nbsp; var z =&nbsp;\n",
    "google.maps.geometry.spherical.computeArea(mypolygon.getPath());<br>\n",
    "&nbsp;&nbsp;&nbsp;&nbsp; alert(z); //this is not working<br>\n",
    "}<br>\n",
    "&lt;/script&gt;"
   ]
  },
  {
   "cell_type": "markdown",
   "metadata": {
    "slideshow": {
     "slide_type": "subslide"
    }
   },
   "source": [
    "##Code3-3\n",
    "\n",
    "&lt;body onload=\"test();\"&gt;<br>\n",
    "&nbsp;&nbsp;&nbsp; &lt;div id=\"map_canvas\" style=\"width:\n",
    "600px;height: 400px;\"&gt;&lt;/div&gt;<br>\n",
    "&lt;/body&gt;"
   ]
  },
  {
   "cell_type": "code",
   "execution_count": 4,
   "metadata": {
    "collapsed": false
   },
   "outputs": [
    {
     "name": "stderr",
     "output_type": "stream",
     "text": [
      "[NbConvertApp] Using existing profile dir: u'/Users/cchcch/.ipython/profile_default'\n",
      "[NbConvertApp] Converting notebook GoogleMap.ipynb to html\n",
      "[NbConvertApp] Support files will be in GoogleMap_files/\n",
      "[NbConvertApp] Loaded template full.tpl\n",
      "[NbConvertApp] Writing 322515 bytes to GoogleMap.html\n"
     ]
    }
   ],
   "source": [
    "%%bash\n",
    "\n",
    "ipython nbconvert --to html GoogleMap.ipynb"
   ]
  },
  {
   "cell_type": "code",
   "execution_count": null,
   "metadata": {
    "collapsed": true
   },
   "outputs": [],
   "source": []
  }
 ],
 "metadata": {
  "celltoolbar": "Slideshow",
  "kernelspec": {
   "display_name": "IPython (Python 2)",
   "name": "python2"
  },
  "language_info": {
   "codemirror_mode": {
    "name": "ipython",
    "version": 2
   },
   "file_extension": ".py",
   "mimetype": "text/x-python",
   "name": "python",
   "nbconvert_exporter": "python",
   "pygments_lexer": "ipython2",
   "version": "2.7.8"
  },
  "signature": "sha256:0304de988bd471ac613e163c9ac8790dfeefea23928dca53d405bf082ef80dba"
 },
 "nbformat": 4,
 "nbformat_minor": 0
}